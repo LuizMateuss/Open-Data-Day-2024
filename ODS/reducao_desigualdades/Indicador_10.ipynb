{
 "cells": [
  {
   "cell_type": "code",
   "execution_count": 2,
   "metadata": {},
   "outputs": [],
   "source": [
    "# Bibliotecas \n",
    "\n",
    "import basedosdados as bd\n",
    "import pandas as pd\n",
    "import matplotlib.pyplot as plt\n",
    "%matplotlib inline"
   ]
  },
  {
   "cell_type": "code",
   "execution_count": 3,
   "metadata": {},
   "outputs": [
    {
     "name": "stderr",
     "output_type": "stream",
     "text": [
      "Downloading: 100%|██████████| 5263650/5263650 [05:46<00:00, 15207.88rows/s]\n"
     ]
    }
   ],
   "source": [
    "# DataSet de Moradores em domicílios particulares permanentes ocupados, por tipo de esgotamento sanitário, segundo grupos de idade e cor ou raça.\n",
    "\n",
    "df_cor_raca_full = bd.read_table(\n",
    "    dataset_id='br_ibge_censo_2022',\n",
    "    table_id='morador_cor_raca_esgotamento_sanitario_municipio',\n",
    "    billing_project_id='opendataday2024-416318'\n",
    ")"
   ]
  },
  {
   "cell_type": "code",
   "execution_count": 4,
   "metadata": {},
   "outputs": [
    {
     "data": {
      "text/html": [
       "<div>\n",
       "<style scoped>\n",
       "    .dataframe tbody tr th:only-of-type {\n",
       "        vertical-align: middle;\n",
       "    }\n",
       "\n",
       "    .dataframe tbody tr th {\n",
       "        vertical-align: top;\n",
       "    }\n",
       "\n",
       "    .dataframe thead th {\n",
       "        text-align: right;\n",
       "    }\n",
       "</style>\n",
       "<table border=\"1\" class=\"dataframe\">\n",
       "  <thead>\n",
       "    <tr style=\"text-align: right;\">\n",
       "      <th></th>\n",
       "      <th>ano</th>\n",
       "      <th>id_municipio</th>\n",
       "      <th>tipo_esgotamento_sanitario</th>\n",
       "      <th>grupo_idade</th>\n",
       "      <th>cor_raca</th>\n",
       "      <th>moradores</th>\n",
       "    </tr>\n",
       "  </thead>\n",
       "  <tbody>\n",
       "    <tr>\n",
       "      <th>0</th>\n",
       "      <td>2022</td>\n",
       "      <td>1100031</td>\n",
       "      <td>Rede geral, rede pluvial ou fossa ligada à rede</td>\n",
       "      <td>0 a 4 anos</td>\n",
       "      <td>Parda</td>\n",
       "      <td>&lt;NA&gt;</td>\n",
       "    </tr>\n",
       "    <tr>\n",
       "      <th>1</th>\n",
       "      <td>2022</td>\n",
       "      <td>1100122</td>\n",
       "      <td>Vala</td>\n",
       "      <td>0 a 4 anos</td>\n",
       "      <td>Parda</td>\n",
       "      <td>16</td>\n",
       "    </tr>\n",
       "    <tr>\n",
       "      <th>2</th>\n",
       "      <td>2022</td>\n",
       "      <td>1100122</td>\n",
       "      <td>Outra forma</td>\n",
       "      <td>0 a 4 anos</td>\n",
       "      <td>Parda</td>\n",
       "      <td>4</td>\n",
       "    </tr>\n",
       "    <tr>\n",
       "      <th>3</th>\n",
       "      <td>2022</td>\n",
       "      <td>1100205</td>\n",
       "      <td>Vala</td>\n",
       "      <td>0 a 4 anos</td>\n",
       "      <td>Parda</td>\n",
       "      <td>381</td>\n",
       "    </tr>\n",
       "    <tr>\n",
       "      <th>4</th>\n",
       "      <td>2022</td>\n",
       "      <td>1301308</td>\n",
       "      <td>Fossa séptica ou fossa filtro não ligada à rede</td>\n",
       "      <td>0 a 4 anos</td>\n",
       "      <td>Parda</td>\n",
       "      <td>75</td>\n",
       "    </tr>\n",
       "    <tr>\n",
       "      <th>5</th>\n",
       "      <td>2022</td>\n",
       "      <td>1302405</td>\n",
       "      <td>Rio, lago, córrego ou mar</td>\n",
       "      <td>0 a 4 anos</td>\n",
       "      <td>Parda</td>\n",
       "      <td>387</td>\n",
       "    </tr>\n",
       "    <tr>\n",
       "      <th>6</th>\n",
       "      <td>2022</td>\n",
       "      <td>1303106</td>\n",
       "      <td>Fossa rudimentar ou buraco</td>\n",
       "      <td>0 a 4 anos</td>\n",
       "      <td>Parda</td>\n",
       "      <td>1663</td>\n",
       "    </tr>\n",
       "    <tr>\n",
       "      <th>7</th>\n",
       "      <td>2022</td>\n",
       "      <td>1303205</td>\n",
       "      <td>Rede geral ou pluvial</td>\n",
       "      <td>0 a 4 anos</td>\n",
       "      <td>Parda</td>\n",
       "      <td>79</td>\n",
       "    </tr>\n",
       "    <tr>\n",
       "      <th>8</th>\n",
       "      <td>2022</td>\n",
       "      <td>1303403</td>\n",
       "      <td>Vala</td>\n",
       "      <td>0 a 4 anos</td>\n",
       "      <td>Parda</td>\n",
       "      <td>221</td>\n",
       "    </tr>\n",
       "    <tr>\n",
       "      <th>9</th>\n",
       "      <td>2022</td>\n",
       "      <td>1303502</td>\n",
       "      <td>Outra forma</td>\n",
       "      <td>0 a 4 anos</td>\n",
       "      <td>Parda</td>\n",
       "      <td>104</td>\n",
       "    </tr>\n",
       "  </tbody>\n",
       "</table>\n",
       "</div>"
      ],
      "text/plain": [
       "    ano id_municipio                       tipo_esgotamento_sanitario  \\\n",
       "0  2022      1100031  Rede geral, rede pluvial ou fossa ligada à rede   \n",
       "1  2022      1100122                                             Vala   \n",
       "2  2022      1100122                                      Outra forma   \n",
       "3  2022      1100205                                             Vala   \n",
       "4  2022      1301308  Fossa séptica ou fossa filtro não ligada à rede   \n",
       "5  2022      1302405                        Rio, lago, córrego ou mar   \n",
       "6  2022      1303106                       Fossa rudimentar ou buraco   \n",
       "7  2022      1303205                            Rede geral ou pluvial   \n",
       "8  2022      1303403                                             Vala   \n",
       "9  2022      1303502                                      Outra forma   \n",
       "\n",
       "  grupo_idade cor_raca  moradores  \n",
       "0  0 a 4 anos    Parda       <NA>  \n",
       "1  0 a 4 anos    Parda         16  \n",
       "2  0 a 4 anos    Parda          4  \n",
       "3  0 a 4 anos    Parda        381  \n",
       "4  0 a 4 anos    Parda         75  \n",
       "5  0 a 4 anos    Parda        387  \n",
       "6  0 a 4 anos    Parda       1663  \n",
       "7  0 a 4 anos    Parda         79  \n",
       "8  0 a 4 anos    Parda        221  \n",
       "9  0 a 4 anos    Parda        104  "
      ]
     },
     "execution_count": 4,
     "metadata": {},
     "output_type": "execute_result"
    }
   ],
   "source": [
    "df_cor_raca_full.head(10)"
   ]
  },
  {
   "cell_type": "code",
   "execution_count": 5,
   "metadata": {},
   "outputs": [
    {
     "data": {
      "text/plain": [
       "ano                            Int64\n",
       "id_municipio                  object\n",
       "tipo_esgotamento_sanitario    object\n",
       "grupo_idade                   object\n",
       "cor_raca                      object\n",
       "moradores                      Int64\n",
       "dtype: object"
      ]
     },
     "execution_count": 5,
     "metadata": {},
     "output_type": "execute_result"
    }
   ],
   "source": [
    "df_cor_raca_full.dtypes"
   ]
  },
  {
   "cell_type": "code",
   "execution_count": 6,
   "metadata": {},
   "outputs": [],
   "source": [
    "# Tratamento do campo de municipio\n",
    "df_cor_raca_full['id_municipio'] = pd.to_numeric(df_cor_raca_full['id_municipio'], errors='coerce').astype('Int64')"
   ]
  },
  {
   "cell_type": "code",
   "execution_count": 8,
   "metadata": {},
   "outputs": [],
   "source": [
    "# Filtro Baixda Santista\n",
    "\n",
    "# Lista dos municipios da baixada santista usada para filtro\n",
    "municipios = [3548500,3551009,3541000,3518701,3513504,3506359]\n",
    "\n",
    "\n",
    "#Filtro dataset esgotameto\n",
    "df_cor_raca_bx = df_cor_raca_full[df_cor_raca_full['id_municipio'].isin(municipios)]\n",
    "\n",
    "\n",
    "# Tratamento para adicionar a descrição da cidade\n",
    "descricao_dict = {3548500: 'Santos', 3551009: 'São Vicente', 3541000: 'Praia Grande', 3518701: 'Guarujá', 3513504: 'Cubatão', 3506359: 'Bertioga'}\n",
    "df_cor_raca_bx['Descricao_Cidade'] = df_cor_raca_bx['id_municipio'].map(descricao_dict)"
   ]
  },
  {
   "cell_type": "code",
   "execution_count": 27,
   "metadata": {},
   "outputs": [
    {
     "data": {
      "text/plain": [
       "array(['Fossa séptica ou fossa filtro ligada à rede',\n",
       "       'Fossa séptica ou fossa filtro não ligada à rede', 'Outra forma',\n",
       "       'Rede geral, rede pluvial ou fossa ligada à rede',\n",
       "       'Fossa rudimentar ou buraco', 'Rio, lago, córrego ou mar',\n",
       "       'Não tinham banheiro nem sanitário', 'Rede geral ou pluvial',\n",
       "       'Vala'], dtype=object)"
      ]
     },
     "execution_count": 27,
     "metadata": {},
     "output_type": "execute_result"
    }
   ],
   "source": [
    "df_cor_raca_bx['tipo_esgotamento_sanitario'].unique()"
   ]
  },
  {
   "cell_type": "code",
   "execution_count": 34,
   "metadata": {},
   "outputs": [],
   "source": [
    "df_buraco = df_cor_raca_bx[df_cor_raca_bx['tipo_esgotamento_sanitario'] == 'Fossa rudimentar ou buraco']"
   ]
  },
  {
   "cell_type": "code",
   "execution_count": 12,
   "metadata": {},
   "outputs": [
    {
     "data": {
      "text/html": [
       "<div>\n",
       "<style scoped>\n",
       "    .dataframe tbody tr th:only-of-type {\n",
       "        vertical-align: middle;\n",
       "    }\n",
       "\n",
       "    .dataframe tbody tr th {\n",
       "        vertical-align: top;\n",
       "    }\n",
       "\n",
       "    .dataframe thead th {\n",
       "        text-align: right;\n",
       "    }\n",
       "</style>\n",
       "<table border=\"1\" class=\"dataframe\">\n",
       "  <thead>\n",
       "    <tr style=\"text-align: right;\">\n",
       "      <th></th>\n",
       "      <th>ano</th>\n",
       "      <th>id_municipio</th>\n",
       "      <th>tipo_esgotamento_sanitario</th>\n",
       "      <th>grupo_idade</th>\n",
       "      <th>cor_raca</th>\n",
       "      <th>moradores</th>\n",
       "      <th>Descricao_Cidade</th>\n",
       "    </tr>\n",
       "  </thead>\n",
       "  <tbody>\n",
       "    <tr>\n",
       "      <th>5468</th>\n",
       "      <td>2022</td>\n",
       "      <td>3551009</td>\n",
       "      <td>Fossa rudimentar ou buraco</td>\n",
       "      <td>0 a 4 anos</td>\n",
       "      <td>Amarela</td>\n",
       "      <td>&lt;NA&gt;</td>\n",
       "      <td>São Vicente</td>\n",
       "    </tr>\n",
       "    <tr>\n",
       "      <th>28406</th>\n",
       "      <td>2022</td>\n",
       "      <td>3513504</td>\n",
       "      <td>Fossa rudimentar ou buraco</td>\n",
       "      <td>5 a 9 anos</td>\n",
       "      <td>Parda</td>\n",
       "      <td>163</td>\n",
       "      <td>Cubatão</td>\n",
       "    </tr>\n",
       "    <tr>\n",
       "      <th>29630</th>\n",
       "      <td>2022</td>\n",
       "      <td>3551009</td>\n",
       "      <td>Fossa rudimentar ou buraco</td>\n",
       "      <td>5 a 9 anos</td>\n",
       "      <td>Amarela</td>\n",
       "      <td>&lt;NA&gt;</td>\n",
       "      <td>São Vicente</td>\n",
       "    </tr>\n",
       "    <tr>\n",
       "      <th>35201</th>\n",
       "      <td>2022</td>\n",
       "      <td>3541000</td>\n",
       "      <td>Fossa rudimentar ou buraco</td>\n",
       "      <td>5 a 9 anos</td>\n",
       "      <td>Branca</td>\n",
       "      <td>22</td>\n",
       "      <td>Praia Grande</td>\n",
       "    </tr>\n",
       "    <tr>\n",
       "      <th>38728</th>\n",
       "      <td>2022</td>\n",
       "      <td>3506359</td>\n",
       "      <td>Fossa rudimentar ou buraco</td>\n",
       "      <td>5 a 9 anos</td>\n",
       "      <td>Preta</td>\n",
       "      <td>28</td>\n",
       "      <td>Bertioga</td>\n",
       "    </tr>\n",
       "    <tr>\n",
       "      <th>40996</th>\n",
       "      <td>2022</td>\n",
       "      <td>3506359</td>\n",
       "      <td>Fossa rudimentar ou buraco</td>\n",
       "      <td>5 a 9 anos</td>\n",
       "      <td>Branca</td>\n",
       "      <td>84</td>\n",
       "      <td>Bertioga</td>\n",
       "    </tr>\n",
       "    <tr>\n",
       "      <th>48973</th>\n",
       "      <td>2022</td>\n",
       "      <td>3513504</td>\n",
       "      <td>Fossa rudimentar ou buraco</td>\n",
       "      <td>5 a 9 anos</td>\n",
       "      <td>Branca</td>\n",
       "      <td>105</td>\n",
       "      <td>Cubatão</td>\n",
       "    </tr>\n",
       "    <tr>\n",
       "      <th>58447</th>\n",
       "      <td>2022</td>\n",
       "      <td>3513504</td>\n",
       "      <td>Fossa rudimentar ou buraco</td>\n",
       "      <td>10 a 14 anos</td>\n",
       "      <td>Preta</td>\n",
       "      <td>20</td>\n",
       "      <td>Cubatão</td>\n",
       "    </tr>\n",
       "    <tr>\n",
       "      <th>66127</th>\n",
       "      <td>2022</td>\n",
       "      <td>3548500</td>\n",
       "      <td>Fossa rudimentar ou buraco</td>\n",
       "      <td>10 a 14 anos</td>\n",
       "      <td>Parda</td>\n",
       "      <td>43</td>\n",
       "      <td>Santos</td>\n",
       "    </tr>\n",
       "    <tr>\n",
       "      <th>72862</th>\n",
       "      <td>2022</td>\n",
       "      <td>3518701</td>\n",
       "      <td>Fossa rudimentar ou buraco</td>\n",
       "      <td>10 a 14 anos</td>\n",
       "      <td>Branca</td>\n",
       "      <td>61</td>\n",
       "      <td>Guarujá</td>\n",
       "    </tr>\n",
       "  </tbody>\n",
       "</table>\n",
       "</div>"
      ],
      "text/plain": [
       "        ano  id_municipio  tipo_esgotamento_sanitario   grupo_idade cor_raca  \\\n",
       "5468   2022       3551009  Fossa rudimentar ou buraco    0 a 4 anos  Amarela   \n",
       "28406  2022       3513504  Fossa rudimentar ou buraco    5 a 9 anos    Parda   \n",
       "29630  2022       3551009  Fossa rudimentar ou buraco    5 a 9 anos  Amarela   \n",
       "35201  2022       3541000  Fossa rudimentar ou buraco    5 a 9 anos   Branca   \n",
       "38728  2022       3506359  Fossa rudimentar ou buraco    5 a 9 anos    Preta   \n",
       "40996  2022       3506359  Fossa rudimentar ou buraco    5 a 9 anos   Branca   \n",
       "48973  2022       3513504  Fossa rudimentar ou buraco    5 a 9 anos   Branca   \n",
       "58447  2022       3513504  Fossa rudimentar ou buraco  10 a 14 anos    Preta   \n",
       "66127  2022       3548500  Fossa rudimentar ou buraco  10 a 14 anos    Parda   \n",
       "72862  2022       3518701  Fossa rudimentar ou buraco  10 a 14 anos   Branca   \n",
       "\n",
       "       moradores Descricao_Cidade  \n",
       "5468        <NA>      São Vicente  \n",
       "28406        163          Cubatão  \n",
       "29630       <NA>      São Vicente  \n",
       "35201         22     Praia Grande  \n",
       "38728         28         Bertioga  \n",
       "40996         84         Bertioga  \n",
       "48973        105          Cubatão  \n",
       "58447         20          Cubatão  \n",
       "66127         43           Santos  \n",
       "72862         61          Guarujá  "
      ]
     },
     "execution_count": 12,
     "metadata": {},
     "output_type": "execute_result"
    }
   ],
   "source": [
    "df_buraco.head(10)"
   ]
  },
  {
   "cell_type": "code",
   "execution_count": 14,
   "metadata": {},
   "outputs": [
    {
     "data": {
      "text/plain": [
       "array(['Amarela', 'Parda', 'Branca', 'Preta', 'Indígena'], dtype=object)"
      ]
     },
     "execution_count": 14,
     "metadata": {},
     "output_type": "execute_result"
    }
   ],
   "source": [
    "df_buraco['cor_raca'].unique()"
   ]
  },
  {
   "cell_type": "code",
   "execution_count": 62,
   "metadata": {},
   "outputs": [],
   "source": [
    "# Cria um dataset de crianças \n",
    "\n",
    "grupo_idade = ['0 a 4 anos','5 a 9 anos','10 a 14 anos']\n",
    "\n",
    "df_buraco_crianca = df_buraco[df_buraco['grupo_idade'].isin(grupo_idade)]\n",
    "df_buraco_crianca_agg = df_buraco_crianca.groupby(['Descricao_Cidade'])['moradores'].sum().sort_values(ascending=False)"
   ]
  },
  {
   "cell_type": "code",
   "execution_count": 63,
   "metadata": {},
   "outputs": [
    {
     "data": {
      "image/png": "[encoded data removed]",
      "text/plain": [
       "<Figure size 640x480 with 1 Axes>"
      ]
     },
     "metadata": {},
     "output_type": "display_data"
    }
   ],
   "source": [
    "# Gráfico\n",
    "\n",
    "df_buraco_crianca_agg.plot(kind='bar', color='skyblue')\n",
    "\n",
    "\n",
    "plt.xlabel('Cidade')\n",
    "plt.ylabel('Número de Crianças')\n",
    "plt.title('Quantidade de crianças com acesso de esgotamento tipo \"Fossa rudimentar ou buraco\"')\n",
    "\n",
    "# Mostrar o gráfico\n",
    "plt.grid(True)\n",
    "plt.show()"
   ]
  },
  {
   "cell_type": "code",
   "execution_count": 65,
   "metadata": {},
   "outputs": [],
   "source": [
    "df_buraco_crianca.columns\n",
    "\n",
    "df_cubatao = df_buraco_crianca[df_buraco_crianca['Descricao_Cidade'] == 'Cubatão']"
   ]
  },
  {
   "cell_type": "code",
   "execution_count": 67,
   "metadata": {},
   "outputs": [],
   "source": [
    "df_cubatao_agg = df_cubatao.groupby(['cor_raca'])['moradores'].sum().sort_values(ascending=False)"
   ]
  },
  {
   "cell_type": "code",
   "execution_count": 68,
   "metadata": {},
   "outputs": [
    {
     "data": {
      "text/plain": [
       "cor_raca\n",
       "Parda       477\n",
       "Branca      331\n",
       "Preta        46\n",
       "Indígena      1\n",
       "Amarela       0\n",
       "Name: moradores, dtype: Int64"
      ]
     },
     "execution_count": 68,
     "metadata": {},
     "output_type": "execute_result"
    }
   ],
   "source": [
    "df_cubatao_agg"
   ]
  },
  {
   "cell_type": "code",
   "execution_count": 70,
   "metadata": {},
   "outputs": [
    {
     "data": {
      "image/png": "[encoded data removed]",
      "text/plain": [
       "<Figure size 640x480 with 1 Axes>"
      ]
     },
     "metadata": {},
     "output_type": "display_data"
    }
   ],
   "source": [
    "# Gráfico\n",
    "\n",
    "df_cubatao_agg.plot(kind='bar', color='skyblue')\n",
    "\n",
    "\n",
    "plt.xlabel('Raça')\n",
    "plt.ylabel('Número de Crianças')\n",
    "plt.title('Quantidade de crianças com acesso de esgotamento tipo \"Fossa rudimentar ou buraco\" em Cubatão')\n",
    "\n",
    "# Mostrar o gráfico\n",
    "plt.grid(True)\n",
    "plt.show()"
   ]
  },
  {
   "cell_type": "code",
   "execution_count": null,
   "metadata": {},
   "outputs": [],
   "source": []
  }
 ],
 "metadata": {
  "kernelspec": {
   "display_name": "Python 3",
   "language": "python",
   "name": "python3"
  },
  "language_info": {
   "codemirror_mode": {
    "name": "ipython",
    "version": 3
   },
   "file_extension": ".py",
   "mimetype": "text/x-python",
   "name": "python",
   "nbconvert_exporter": "python",
   "pygments_lexer": "ipython3",
   "version": "3.8.10"
  }
 },
 "nbformat": 4,
 "nbformat_minor": 2
}
