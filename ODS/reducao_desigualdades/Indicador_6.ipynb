{
 "cells": [
  {
   "cell_type": "code",
   "execution_count": 2,
   "metadata": {},
   "outputs": [],
   "source": [
    "# Bibliotecas \n",
    "\n",
    "import basedosdados as bd\n",
    "import pandas as pd\n",
    "import matplotlib.pyplot as plt\n",
    "%matplotlib inline"
   ]
  },
  {
   "cell_type": "code",
   "execution_count": 3,
   "metadata": {},
   "outputs": [
    {
     "name": "stderr",
     "output_type": "stream",
     "text": [
      "Downloading: 100%|██████████| 50130/50130 [00:02<00:00, 17684.21rows/s]\n",
      "Downloading: 100%|██████████| 5570/5570 [00:00<00:00, 10975.81rows/s]\n"
     ]
    }
   ],
   "source": [
    "#  DataSet de Moradores, por tipo de esgotamento sanitário\n",
    "\n",
    "df_esgotamento_original = bd.read_table(\n",
    "    dataset_id='br_ibge_censo_2022',\n",
    "    table_id='domicilio_esgotamento_sanitario_municipio',\n",
    "    billing_project_id='opendataday2024-416318'\n",
    ")\n",
    "\n",
    "# DataSet de número de domicilios \n",
    "\n",
    "df_domicilio_original = bd.read_table(\n",
    "    dataset_id='br_ibge_censo_2022',\n",
    "    table_id='domicilio_morador_municipio',\n",
    "    billing_project_id='opendataday2024-416318'\n",
    ")\n",
    "\n"
   ]
  },
  {
   "cell_type": "code",
   "execution_count": 4,
   "metadata": {},
   "outputs": [
    {
     "data": {
      "text/html": [
       "<div>\n",
       "<style scoped>\n",
       "    .dataframe tbody tr th:only-of-type {\n",
       "        vertical-align: middle;\n",
       "    }\n",
       "\n",
       "    .dataframe tbody tr th {\n",
       "        vertical-align: top;\n",
       "    }\n",
       "\n",
       "    .dataframe thead th {\n",
       "        text-align: right;\n",
       "    }\n",
       "</style>\n",
       "<table border=\"1\" class=\"dataframe\">\n",
       "  <thead>\n",
       "    <tr style=\"text-align: right;\">\n",
       "      <th></th>\n",
       "      <th>ano</th>\n",
       "      <th>id_municipio</th>\n",
       "      <th>tipo_esgotamento_sanitario</th>\n",
       "      <th>domicilios</th>\n",
       "    </tr>\n",
       "  </thead>\n",
       "  <tbody>\n",
       "    <tr>\n",
       "      <th>0</th>\n",
       "      <td>2022</td>\n",
       "      <td>1703602</td>\n",
       "      <td>Vala</td>\n",
       "      <td>&lt;NA&gt;</td>\n",
       "    </tr>\n",
       "    <tr>\n",
       "      <th>1</th>\n",
       "      <td>2022</td>\n",
       "      <td>3138625</td>\n",
       "      <td>Vala</td>\n",
       "      <td>&lt;NA&gt;</td>\n",
       "    </tr>\n",
       "    <tr>\n",
       "      <th>2</th>\n",
       "      <td>2022</td>\n",
       "      <td>3168200</td>\n",
       "      <td>Vala</td>\n",
       "      <td>&lt;NA&gt;</td>\n",
       "    </tr>\n",
       "    <tr>\n",
       "      <th>3</th>\n",
       "      <td>2022</td>\n",
       "      <td>3533809</td>\n",
       "      <td>Vala</td>\n",
       "      <td>&lt;NA&gt;</td>\n",
       "    </tr>\n",
       "    <tr>\n",
       "      <th>4</th>\n",
       "      <td>2022</td>\n",
       "      <td>3534203</td>\n",
       "      <td>Vala</td>\n",
       "      <td>&lt;NA&gt;</td>\n",
       "    </tr>\n",
       "    <tr>\n",
       "      <th>5</th>\n",
       "      <td>2022</td>\n",
       "      <td>4124905</td>\n",
       "      <td>Vala</td>\n",
       "      <td>&lt;NA&gt;</td>\n",
       "    </tr>\n",
       "    <tr>\n",
       "      <th>6</th>\n",
       "      <td>2022</td>\n",
       "      <td>4208005</td>\n",
       "      <td>Vala</td>\n",
       "      <td>&lt;NA&gt;</td>\n",
       "    </tr>\n",
       "    <tr>\n",
       "      <th>7</th>\n",
       "      <td>2022</td>\n",
       "      <td>4306320</td>\n",
       "      <td>Vala</td>\n",
       "      <td>&lt;NA&gt;</td>\n",
       "    </tr>\n",
       "    <tr>\n",
       "      <th>8</th>\n",
       "      <td>2022</td>\n",
       "      <td>5209606</td>\n",
       "      <td>Vala</td>\n",
       "      <td>&lt;NA&gt;</td>\n",
       "    </tr>\n",
       "    <tr>\n",
       "      <th>9</th>\n",
       "      <td>2022</td>\n",
       "      <td>5221304</td>\n",
       "      <td>Vala</td>\n",
       "      <td>&lt;NA&gt;</td>\n",
       "    </tr>\n",
       "  </tbody>\n",
       "</table>\n",
       "</div>"
      ],
      "text/plain": [
       "    ano id_municipio tipo_esgotamento_sanitario  domicilios\n",
       "0  2022      1703602                       Vala        <NA>\n",
       "1  2022      3138625                       Vala        <NA>\n",
       "2  2022      3168200                       Vala        <NA>\n",
       "3  2022      3533809                       Vala        <NA>\n",
       "4  2022      3534203                       Vala        <NA>\n",
       "5  2022      4124905                       Vala        <NA>\n",
       "6  2022      4208005                       Vala        <NA>\n",
       "7  2022      4306320                       Vala        <NA>\n",
       "8  2022      5209606                       Vala        <NA>\n",
       "9  2022      5221304                       Vala        <NA>"
      ]
     },
     "execution_count": 4,
     "metadata": {},
     "output_type": "execute_result"
    }
   ],
   "source": [
    "df_esgotamento_original.head(10)"
   ]
  },
  {
   "cell_type": "code",
   "execution_count": 5,
   "metadata": {},
   "outputs": [
    {
     "data": {
      "text/html": [
       "<div>\n",
       "<style scoped>\n",
       "    .dataframe tbody tr th:only-of-type {\n",
       "        vertical-align: middle;\n",
       "    }\n",
       "\n",
       "    .dataframe tbody tr th {\n",
       "        vertical-align: top;\n",
       "    }\n",
       "\n",
       "    .dataframe thead th {\n",
       "        text-align: right;\n",
       "    }\n",
       "</style>\n",
       "<table border=\"1\" class=\"dataframe\">\n",
       "  <thead>\n",
       "    <tr style=\"text-align: right;\">\n",
       "      <th></th>\n",
       "      <th>id_municipio</th>\n",
       "      <th>domicilios</th>\n",
       "      <th>moradores</th>\n",
       "    </tr>\n",
       "  </thead>\n",
       "  <tbody>\n",
       "    <tr>\n",
       "      <th>0</th>\n",
       "      <td>3546256</td>\n",
       "      <td>768</td>\n",
       "      <td>2116</td>\n",
       "    </tr>\n",
       "    <tr>\n",
       "      <th>1</th>\n",
       "      <td>5206909</td>\n",
       "      <td>768</td>\n",
       "      <td>1899</td>\n",
       "    </tr>\n",
       "    <tr>\n",
       "      <th>2</th>\n",
       "      <td>2208551</td>\n",
       "      <td>768</td>\n",
       "      <td>2364</td>\n",
       "    </tr>\n",
       "    <tr>\n",
       "      <th>3</th>\n",
       "      <td>5219456</td>\n",
       "      <td>1024</td>\n",
       "      <td>2688</td>\n",
       "    </tr>\n",
       "    <tr>\n",
       "      <th>4</th>\n",
       "      <td>3101300</td>\n",
       "      <td>1024</td>\n",
       "      <td>2739</td>\n",
       "    </tr>\n",
       "    <tr>\n",
       "      <th>5</th>\n",
       "      <td>4305603</td>\n",
       "      <td>1280</td>\n",
       "      <td>3253</td>\n",
       "    </tr>\n",
       "    <tr>\n",
       "      <th>6</th>\n",
       "      <td>3161650</td>\n",
       "      <td>1280</td>\n",
       "      <td>3140</td>\n",
       "    </tr>\n",
       "    <tr>\n",
       "      <th>7</th>\n",
       "      <td>5200829</td>\n",
       "      <td>1280</td>\n",
       "      <td>3259</td>\n",
       "    </tr>\n",
       "    <tr>\n",
       "      <th>8</th>\n",
       "      <td>1703867</td>\n",
       "      <td>1280</td>\n",
       "      <td>3628</td>\n",
       "    </tr>\n",
       "    <tr>\n",
       "      <th>9</th>\n",
       "      <td>5206503</td>\n",
       "      <td>1536</td>\n",
       "      <td>3879</td>\n",
       "    </tr>\n",
       "  </tbody>\n",
       "</table>\n",
       "</div>"
      ],
      "text/plain": [
       "  id_municipio  domicilios  moradores\n",
       "0      3546256         768       2116\n",
       "1      5206909         768       1899\n",
       "2      2208551         768       2364\n",
       "3      5219456        1024       2688\n",
       "4      3101300        1024       2739\n",
       "5      4305603        1280       3253\n",
       "6      3161650        1280       3140\n",
       "7      5200829        1280       3259\n",
       "8      1703867        1280       3628\n",
       "9      5206503        1536       3879"
      ]
     },
     "execution_count": 5,
     "metadata": {},
     "output_type": "execute_result"
    }
   ],
   "source": [
    "df_domicilio_original.head(10)"
   ]
  },
  {
   "cell_type": "code",
   "execution_count": 6,
   "metadata": {},
   "outputs": [],
   "source": [
    "# Tratamento do campo de municipio\n",
    "df_esgotamento_original['id_municipio'] = pd.to_numeric(df_esgotamento_original['id_municipio'], errors='coerce').astype('Int64')\n",
    "\n",
    "df_domicilio_original['id_municipio'] = pd.to_numeric(df_domicilio_original['id_municipio'], errors='coerce').astype('Int64')\n"
   ]
  },
  {
   "cell_type": "code",
   "execution_count": 7,
   "metadata": {},
   "outputs": [],
   "source": [
    "# Filtro Baixda Santista\n",
    "\n",
    "# Lista dos municipios da baixada santista usada para filtro\n",
    "municipios = [3548500,3551009,3541000,3518701,3513504,3506359]\n",
    "\n",
    "\n",
    "#Filtro dataset esgotameto\n",
    "df_esgotamento_bx = df_esgotamento_original[df_esgotamento_original['id_municipio'].isin(municipios)]\n",
    "\n",
    "\n",
    "#Filtro dataset domicilio\n",
    "df_domicilio_bx = df_domicilio_original[df_domicilio_original['id_municipio'].isin(municipios)]\n",
    "\n",
    "\n",
    "# Tratamento para adicionar a descrição da cidade\n",
    "descricao_dict = {3548500: 'Santos', 3551009: 'São Vicente', 3541000: 'Praia Grande', 3518701: 'Guarujá', 3513504: 'Cubatão', 3506359: 'Bertioga'}\n",
    "df_esgotamento_bx['Descricao_Cidade'] = df_esgotamento_bx['id_municipio'].map(descricao_dict)\n",
    "\n",
    "\n",
    "descricao_dict = {3548500: 'Santos', 3551009: 'São Vicente', 3541000: 'Praia Grande', 3518701: 'Guarujá', 3513504: 'Cubatão', 3506359: 'Bertioga'}\n",
    "df_domicilio_bx['Descricao_Cidade'] = df_domicilio_bx['id_municipio'].map(descricao_dict)\n"
   ]
  },
  {
   "cell_type": "code",
   "execution_count": 8,
   "metadata": {},
   "outputs": [
    {
     "data": {
      "text/plain": [
       "array(['Vala', 'Outra forma', 'Rede geral ou pluvial',\n",
       "       'Fossa rudimentar ou buraco', 'Rio, lago, córrego ou mar',\n",
       "       'Não tinham banheiro nem sanitário',\n",
       "       'Fossa séptica ou fossa filtro ligada à rede',\n",
       "       'Rede geral, rede pluvial ou fossa ligada à rede',\n",
       "       'Fossa séptica ou fossa filtro não ligada à rede'], dtype=object)"
      ]
     },
     "execution_count": 8,
     "metadata": {},
     "output_type": "execute_result"
    }
   ],
   "source": [
    "df_esgotamento_bx['tipo_esgotamento_sanitario'].unique()"
   ]
  },
  {
   "cell_type": "code",
   "execution_count": 9,
   "metadata": {},
   "outputs": [
    {
     "data": {
      "image/png": "[encoded data removed]",
      "text/plain": [
       "<Figure size 640x480 with 1 Axes>"
      ]
     },
     "metadata": {},
     "output_type": "display_data"
    }
   ],
   "source": [
    "# Comparativos de esgotamento sanitário do tipo Vala entre os municipios\n",
    "df_esgotamento_bx_vala  = df_esgotamento_bx[df_esgotamento_bx['tipo_esgotamento_sanitario'] == 'Vala']\n",
    "\n",
    "df_esgotamento_bx_vala_sorted = df_esgotamento_bx_vala.sort_values(by='domicilios')\n",
    "plt.bar(df_esgotamento_bx_vala_sorted['Descricao_Cidade'], df_esgotamento_bx_vala_sorted['domicilios'])\n",
    "plt.xlabel('Cidade')\n",
    "plt.ylabel('Quantidade de Domicilios')\n",
    "plt.title('Números de domicilios com esgotamento tipo \"Vala\"')\n",
    "plt.show()\n"
   ]
  },
  {
   "cell_type": "code",
   "execution_count": 18,
   "metadata": {},
   "outputs": [
    {
     "data": {
      "image/png": "[encoded data removed]",
      "text/plain": [
       "<Figure size 640x480 with 1 Axes>"
      ]
     },
     "metadata": {},
     "output_type": "display_data"
    }
   ],
   "source": [
    "# Comparativos de esgotamento sanitário do tipo \"Rio, lago, córrego ou mar\" entre os municipios\n",
    "df_esgotamento_bx_mar  = df_esgotamento_bx[df_esgotamento_bx['tipo_esgotamento_sanitario'] == 'Rio, lago, córrego ou mar']\n",
    "\n",
    "df_esgotamento_bx_mar_sorted = df_esgotamento_bx_mar.sort_values(by='domicilios')\n",
    "plt.bar(df_esgotamento_bx_mar_sorted['Descricao_Cidade'], df_esgotamento_bx_mar_sorted['domicilios'])\n",
    "plt.xlabel('Cidade')\n",
    "plt.ylabel('Quantidade de Domicilios')\n",
    "plt.title('Números de domicilios com esgotamento tipo \"Rio, lago, córrego ou mar\"')\n",
    "plt.show()"
   ]
  },
  {
   "cell_type": "code",
   "execution_count": 11,
   "metadata": {},
   "outputs": [
    {
     "data": {
      "image/png": "[encoded data removed]",
      "text/plain": [
       "<Figure size 640x480 with 1 Axes>"
      ]
     },
     "metadata": {},
     "output_type": "display_data"
    }
   ],
   "source": [
    "# Comparativos de esgotamento sanitário do tipo \"Rede geral, rede pluvial ou fossa ligada à rede\" entre os municipios\n",
    "df_esgotamento_bx_rede  = df_esgotamento_bx[df_esgotamento_bx['tipo_esgotamento_sanitario'] == 'Rede geral, rede pluvial ou fossa ligada à rede']\n",
    "\n",
    "df_esgotamento_bx_rede_sorted = df_esgotamento_bx_rede.sort_values(by='domicilios')\n",
    "plt.bar(df_esgotamento_bx_rede_sorted['Descricao_Cidade'], df_esgotamento_bx_rede_sorted['domicilios'])\n",
    "plt.xlabel('Cidade')\n",
    "plt.ylabel('Quantidade de Domicilios')\n",
    "plt.title('Números de domicilios com esgotamento tipo \"Rede geral, rede pluvial ou fossa ligada à rede\"')\n",
    "plt.show()"
   ]
  },
  {
   "cell_type": "code",
   "execution_count": 12,
   "metadata": {},
   "outputs": [
    {
     "data": {
      "text/html": [
       "<div>\n",
       "<style scoped>\n",
       "    .dataframe tbody tr th:only-of-type {\n",
       "        vertical-align: middle;\n",
       "    }\n",
       "\n",
       "    .dataframe tbody tr th {\n",
       "        vertical-align: top;\n",
       "    }\n",
       "\n",
       "    .dataframe thead th {\n",
       "        text-align: right;\n",
       "    }\n",
       "</style>\n",
       "<table border=\"1\" class=\"dataframe\">\n",
       "  <thead>\n",
       "    <tr style=\"text-align: right;\">\n",
       "      <th></th>\n",
       "      <th>id_municipio</th>\n",
       "      <th>domicilios</th>\n",
       "      <th>moradores</th>\n",
       "      <th>Descricao_Cidade</th>\n",
       "    </tr>\n",
       "  </thead>\n",
       "  <tbody>\n",
       "    <tr>\n",
       "      <th>1204</th>\n",
       "      <td>3548500</td>\n",
       "      <td>167478</td>\n",
       "      <td>416817</td>\n",
       "      <td>Santos</td>\n",
       "    </tr>\n",
       "    <tr>\n",
       "      <th>1332</th>\n",
       "      <td>3518701</td>\n",
       "      <td>99388</td>\n",
       "      <td>287098</td>\n",
       "      <td>Guarujá</td>\n",
       "    </tr>\n",
       "    <tr>\n",
       "      <th>2845</th>\n",
       "      <td>3551009</td>\n",
       "      <td>119683</td>\n",
       "      <td>324205</td>\n",
       "      <td>São Vicente</td>\n",
       "    </tr>\n",
       "    <tr>\n",
       "      <th>3371</th>\n",
       "      <td>3513504</td>\n",
       "      <td>40091</td>\n",
       "      <td>112397</td>\n",
       "      <td>Cubatão</td>\n",
       "    </tr>\n",
       "    <tr>\n",
       "      <th>4366</th>\n",
       "      <td>3506359</td>\n",
       "      <td>22728</td>\n",
       "      <td>63985</td>\n",
       "      <td>Bertioga</td>\n",
       "    </tr>\n",
       "    <tr>\n",
       "      <th>5549</th>\n",
       "      <td>3541000</td>\n",
       "      <td>130046</td>\n",
       "      <td>348540</td>\n",
       "      <td>Praia Grande</td>\n",
       "    </tr>\n",
       "  </tbody>\n",
       "</table>\n",
       "</div>"
      ],
      "text/plain": [
       "      id_municipio  domicilios  moradores Descricao_Cidade\n",
       "1204       3548500      167478     416817           Santos\n",
       "1332       3518701       99388     287098          Guarujá\n",
       "2845       3551009      119683     324205      São Vicente\n",
       "3371       3513504       40091     112397          Cubatão\n",
       "4366       3506359       22728      63985         Bertioga\n",
       "5549       3541000      130046     348540     Praia Grande"
      ]
     },
     "execution_count": 12,
     "metadata": {},
     "output_type": "execute_result"
    }
   ],
   "source": [
    "df_domicilio_bx.head(10)"
   ]
  },
  {
   "cell_type": "code",
   "execution_count": 22,
   "metadata": {},
   "outputs": [
    {
     "data": {
      "text/html": [
       "<div>\n",
       "<style scoped>\n",
       "    .dataframe tbody tr th:only-of-type {\n",
       "        vertical-align: middle;\n",
       "    }\n",
       "\n",
       "    .dataframe tbody tr th {\n",
       "        vertical-align: top;\n",
       "    }\n",
       "\n",
       "    .dataframe thead th {\n",
       "        text-align: right;\n",
       "    }\n",
       "</style>\n",
       "<table border=\"1\" class=\"dataframe\">\n",
       "  <thead>\n",
       "    <tr style=\"text-align: right;\">\n",
       "      <th></th>\n",
       "      <th>ano</th>\n",
       "      <th>id_municipio</th>\n",
       "      <th>tipo_esgotamento_sanitario</th>\n",
       "      <th>domicilios</th>\n",
       "      <th>Descricao_Cidade</th>\n",
       "    </tr>\n",
       "  </thead>\n",
       "  <tbody>\n",
       "    <tr>\n",
       "      <th>30998</th>\n",
       "      <td>2022</td>\n",
       "      <td>3513504</td>\n",
       "      <td>Não tinham banheiro nem sanitário</td>\n",
       "      <td>7</td>\n",
       "      <td>Cubatão</td>\n",
       "    </tr>\n",
       "    <tr>\n",
       "      <th>9584</th>\n",
       "      <td>2022</td>\n",
       "      <td>3513504</td>\n",
       "      <td>Outra forma</td>\n",
       "      <td>51</td>\n",
       "      <td>Cubatão</td>\n",
       "    </tr>\n",
       "    <tr>\n",
       "      <th>49042</th>\n",
       "      <td>2022</td>\n",
       "      <td>3513504</td>\n",
       "      <td>Fossa séptica ou fossa filtro não ligada à rede</td>\n",
       "      <td>702</td>\n",
       "      <td>Cubatão</td>\n",
       "    </tr>\n",
       "    <tr>\n",
       "      <th>36866</th>\n",
       "      <td>2022</td>\n",
       "      <td>3513504</td>\n",
       "      <td>Fossa séptica ou fossa filtro ligada à rede</td>\n",
       "      <td>822</td>\n",
       "      <td>Cubatão</td>\n",
       "    </tr>\n",
       "    <tr>\n",
       "      <th>18715</th>\n",
       "      <td>2022</td>\n",
       "      <td>3513504</td>\n",
       "      <td>Fossa rudimentar ou buraco</td>\n",
       "      <td>1112</td>\n",
       "      <td>Cubatão</td>\n",
       "    </tr>\n",
       "    <tr>\n",
       "      <th>3204</th>\n",
       "      <td>2022</td>\n",
       "      <td>3513504</td>\n",
       "      <td>Vala</td>\n",
       "      <td>3355</td>\n",
       "      <td>Cubatão</td>\n",
       "    </tr>\n",
       "    <tr>\n",
       "      <th>25749</th>\n",
       "      <td>2022</td>\n",
       "      <td>3513504</td>\n",
       "      <td>Rio, lago, córrego ou mar</td>\n",
       "      <td>3605</td>\n",
       "      <td>Cubatão</td>\n",
       "    </tr>\n",
       "    <tr>\n",
       "      <th>16317</th>\n",
       "      <td>2022</td>\n",
       "      <td>3513504</td>\n",
       "      <td>Rede geral ou pluvial</td>\n",
       "      <td>30437</td>\n",
       "      <td>Cubatão</td>\n",
       "    </tr>\n",
       "    <tr>\n",
       "      <th>40170</th>\n",
       "      <td>2022</td>\n",
       "      <td>3513504</td>\n",
       "      <td>Rede geral, rede pluvial ou fossa ligada à rede</td>\n",
       "      <td>31259</td>\n",
       "      <td>Cubatão</td>\n",
       "    </tr>\n",
       "  </tbody>\n",
       "</table>\n",
       "</div>"
      ],
      "text/plain": [
       "        ano  id_municipio                       tipo_esgotamento_sanitario  \\\n",
       "30998  2022       3513504                Não tinham banheiro nem sanitário   \n",
       "9584   2022       3513504                                      Outra forma   \n",
       "49042  2022       3513504  Fossa séptica ou fossa filtro não ligada à rede   \n",
       "36866  2022       3513504      Fossa séptica ou fossa filtro ligada à rede   \n",
       "18715  2022       3513504                       Fossa rudimentar ou buraco   \n",
       "3204   2022       3513504                                             Vala   \n",
       "25749  2022       3513504                        Rio, lago, córrego ou mar   \n",
       "16317  2022       3513504                            Rede geral ou pluvial   \n",
       "40170  2022       3513504  Rede geral, rede pluvial ou fossa ligada à rede   \n",
       "\n",
       "       domicilios Descricao_Cidade  \n",
       "30998           7          Cubatão  \n",
       "9584           51          Cubatão  \n",
       "49042         702          Cubatão  \n",
       "36866         822          Cubatão  \n",
       "18715        1112          Cubatão  \n",
       "3204         3355          Cubatão  \n",
       "25749        3605          Cubatão  \n",
       "16317       30437          Cubatão  \n",
       "40170       31259          Cubatão  "
      ]
     },
     "execution_count": 22,
     "metadata": {},
     "output_type": "execute_result"
    }
   ],
   "source": [
    "df_esgotamento_bx_santos  = df_esgotamento_bx[df_esgotamento_bx['Descricao_Cidade'] == 'Cubatão']\n",
    "\n",
    "df_esgotamento_bx_santos_sorted = df_esgotamento_bx_santos.sort_values(by='domicilios')\n",
    "\n",
    "df_esgotamento_bx_santos_sorted.head(10)"
   ]
  },
  {
   "cell_type": "code",
   "execution_count": 23,
   "metadata": {},
   "outputs": [
    {
     "ename": "NameError",
     "evalue": "name 'df_domicilio_bx_sorted' is not defined",
     "output_type": "error",
     "traceback": [
      "\u001b[1;31m---------------------------------------------------------------------------\u001b[0m",
      "\u001b[1;31mNameError\u001b[0m                                 Traceback (most recent call last)",
      "Cell \u001b[1;32mIn[23], line 2\u001b[0m\n\u001b[0;32m      1\u001b[0m \u001b[38;5;66;03m# Concatena os dataframes de esgotamento mar com o total de domicilio\u001b[39;00m\n\u001b[1;32m----> 2\u001b[0m df_prop_mar \u001b[38;5;241m=\u001b[39m pd\u001b[38;5;241m.\u001b[39mmerge(df_esgotamento_bx_mar_sorted, \u001b[43mdf_domicilio_bx_sorted\u001b[49m, on\u001b[38;5;241m=\u001b[39m\u001b[38;5;124m\"\u001b[39m\u001b[38;5;124mDescricao_Cidade\u001b[39m\u001b[38;5;124m\"\u001b[39m)\n",
      "\u001b[1;31mNameError\u001b[0m: name 'df_domicilio_bx_sorted' is not defined"
     ]
    }
   ],
   "source": [
    "# Concatena os dataframes de esgotamento mar com o total de domicilio\n",
    "df_prop_mar = pd.merge(df_esgotamento_bx_mar_sorted, df_domicilio_bx_sorted, on=\"Descricao_Cidade\")"
   ]
  },
  {
   "cell_type": "code",
   "execution_count": null,
   "metadata": {},
   "outputs": [],
   "source": [
    "# Cria a coluna de Proporção\n",
    "df_prop_mar['Percentual'] = df_prop_mar['domicilios_x'] / df_prop_mar['domicilios_y'] * 100"
   ]
  },
  {
   "cell_type": "code",
   "execution_count": 19,
   "metadata": {},
   "outputs": [
    {
     "ename": "NameError",
     "evalue": "name 'df_prop_mar' is not defined",
     "output_type": "error",
     "traceback": [
      "\u001b[1;31m---------------------------------------------------------------------------\u001b[0m",
      "\u001b[1;31mNameError\u001b[0m                                 Traceback (most recent call last)",
      "Cell \u001b[1;32mIn[19], line 2\u001b[0m\n\u001b[0;32m      1\u001b[0m \u001b[38;5;66;03m# Gráfico de Proporção\u001b[39;00m\n\u001b[1;32m----> 2\u001b[0m df_prop_mar_sorted \u001b[38;5;241m=\u001b[39m \u001b[43mdf_prop_mar\u001b[49m\u001b[38;5;241m.\u001b[39msort_values(by\u001b[38;5;241m=\u001b[39m\u001b[38;5;124m'\u001b[39m\u001b[38;5;124mPercentual\u001b[39m\u001b[38;5;124m'\u001b[39m)\n\u001b[0;32m      3\u001b[0m plt\u001b[38;5;241m.\u001b[39mbar(df_prop_mar_sorted[\u001b[38;5;124m'\u001b[39m\u001b[38;5;124mDescricao_Cidade\u001b[39m\u001b[38;5;124m'\u001b[39m], df_prop_mar_sorted[\u001b[38;5;124m'\u001b[39m\u001b[38;5;124mPercentual\u001b[39m\u001b[38;5;124m'\u001b[39m])\n\u001b[0;32m      4\u001b[0m plt\u001b[38;5;241m.\u001b[39mxlabel(\u001b[38;5;124m'\u001b[39m\u001b[38;5;124mCidade\u001b[39m\u001b[38;5;124m'\u001b[39m)\n",
      "\u001b[1;31mNameError\u001b[0m: name 'df_prop_mar' is not defined"
     ]
    }
   ],
   "source": [
    "# Gráfico de Proporção\n",
    "df_prop_mar_sorted = df_prop_mar.sort_values(by='Percentual')\n",
    "plt.bar(df_prop_mar_sorted['Descricao_Cidade'], df_prop_mar_sorted['Percentual'])\n",
    "plt.xlabel('Cidade')\n",
    "plt.ylabel('Quantidade de Domicilios % ')\n",
    "plt.title('Proporção de esgotamento em \"Rio, lago, córrego ou mar\" X total de domicilios')\n",
    "plt.show()"
   ]
  }
 ],
 "metadata": {
  "kernelspec": {
   "display_name": "Python 3",
   "language": "python",
   "name": "python3"
  },
  "language_info": {
   "codemirror_mode": {
    "name": "ipython",
    "version": 3
   },
   "file_extension": ".py",
   "mimetype": "text/x-python",
   "name": "python",
   "nbconvert_exporter": "python",
   "pygments_lexer": "ipython3",
   "version": "3.8.10"
  },
  "orig_nbformat": 4
 },
 "nbformat": 4,
 "nbformat_minor": 2
}
